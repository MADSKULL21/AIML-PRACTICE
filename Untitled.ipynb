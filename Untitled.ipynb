{
 "cells": [
  {
   "cell_type": "code",
   "execution_count": 10,
   "id": "65f4e60b-3d36-480a-bed3-4c4370c66b10",
   "metadata": {},
   "outputs": [
    {
     "name": "stdout",
     "output_type": "stream",
     "text": [
      "Solution Found!\n",
      "(0, 0)\n",
      "(4, 0)\n",
      "(0, 3)\n",
      "(1, 3)\n",
      "(4, 3)\n",
      "(3, 0)\n",
      "(1, 0)\n",
      "(3, 3)\n",
      "(0, 1)\n",
      "(4, 2)\n"
     ]
    },
    {
     "data": {
      "text/plain": [
       "True"
      ]
     },
     "execution_count": 10,
     "metadata": {},
     "output_type": "execute_result"
    }
   ],
   "source": [
    "from collections import deque\n",
    "\n",
    "def water_jug_bfs(capacity_x, capacity_y, target):\n",
    "    queue = deque()  # Fixed indentation\n",
    "    queue.append((0, 0))  \n",
    "    \n",
    "    # Set to store visited states to prevent redundant calculations\n",
    "    visited = set()\n",
    "    visited.add((0, 0))\n",
    "    \n",
    "    # List to store the sequence of steps\n",
    "    path = []\n",
    "    \n",
    "    while queue:\n",
    "        x, y = queue.popleft()  # Dequeue a state\n",
    "        path.append((x, y))  # Store the step\n",
    "        \n",
    "        # If we reach the target amount, print solution\n",
    "        if x == target or y == target:\n",
    "            print(\"Solution Found!\")\n",
    "            for step in path:\n",
    "                print(step)\n",
    "            return True\n",
    "        \n",
    "        # Possible operations\n",
    "        possible_states = set()\n",
    "        \n",
    "        # Fill Jug X\n",
    "        possible_states.add((capacity_x, y))\n",
    "        # Fill Jug Y\n",
    "        possible_states.add((x, capacity_y))\n",
    "        # Empty Jug X\n",
    "        possible_states.add((0, y))\n",
    "        # Empty Jug Y\n",
    "        possible_states.add((x, 0))\n",
    "        # Pour from Jug X to Jug Y\n",
    "        pour_x_to_y = (max(0, x - (capacity_y - y)), min(capacity_y, x + y))\n",
    "        possible_states.add(pour_x_to_y)\n",
    "        # Pour from Jug Y to Jug X\n",
    "        pour_y_to_x = (min(capacity_x, x + y), max(0, y - (capacity_x - x)))\n",
    "        possible_states.add(pour_y_to_x)\n",
    "\n",
    "        # Process all new states\n",
    "        for new_state in possible_states:\n",
    "            if new_state not in visited:\n",
    "                visited.add(new_state)\n",
    "                queue.append(new_state)\n",
    "\n",
    "    print(\"No solution found!\")\n",
    "    return False\n",
    "\n",
    "# Example: Solve for jugs of 4 and 3 liters, targeting 2 liters\n",
    "water_jug_bfs(4, 3, 2)\n"
   ]
  },
  {
   "cell_type": "code",
   "execution_count": null,
   "id": "76bfc823-0a9f-4663-b5ac-8f12f464fdd2",
   "metadata": {},
   "outputs": [],
   "source": []
  }
 ],
 "metadata": {
  "kernelspec": {
   "display_name": "Python 3 (ipykernel)",
   "language": "python",
   "name": "python3"
  },
  "language_info": {
   "codemirror_mode": {
    "name": "ipython",
    "version": 3
   },
   "file_extension": ".py",
   "mimetype": "text/x-python",
   "name": "python",
   "nbconvert_exporter": "python",
   "pygments_lexer": "ipython3",
   "version": "3.12.4"
  }
 },
 "nbformat": 4,
 "nbformat_minor": 5
}
