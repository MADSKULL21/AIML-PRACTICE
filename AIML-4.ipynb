{
 "cells": [
  {
   "cell_type": "code",
   "execution_count": 125,
   "id": "a2051bff-d6a3-4890-9b7d-88b4488526c4",
   "metadata": {},
   "outputs": [],
   "source": [
    "import pandas as pd\n",
    "import numpy as np\n",
    "from numpy import nan\n",
    "data = pd.read_csv(\"Salaries.csv\")"
   ]
  },
  {
   "cell_type": "code",
   "execution_count": 127,
   "id": "6247bcc6-e69c-4fce-9224-7b2a649464f4",
   "metadata": {},
   "outputs": [
    {
     "name": "stdout",
     "output_type": "stream",
     "text": [
      "   Id       EmployeeName                                        JobTitle  \\\n",
      "0   1     NATHANIEL FORD  GENERAL MANAGER-METROPOLITAN TRANSIT AUTHORITY   \n",
      "1   2       GARY JIMENEZ                 CAPTAIN III (POLICE DEPARTMENT)   \n",
      "2   3     ALBERT PARDINI                 CAPTAIN III (POLICE DEPARTMENT)   \n",
      "3   4  CHRISTOPHER CHONG            WIRE ROPE CABLE MAINTENANCE MECHANIC   \n",
      "4   5    PATRICK GARDNER    DEPUTY CHIEF OF DEPARTMENT,(FIRE DEPARTMENT)   \n",
      "\n",
      "     BasePay  OvertimePay   OtherPay  Benefits   TotalPay  TotalPayBenefits  \\\n",
      "0  167411.18         0.00  400184.25       NaN  567595.43         567595.43   \n",
      "1  155966.02    245131.88  137811.38       NaN  538909.28         538909.28   \n",
      "2  212739.13    106088.18   16452.60       NaN  335279.91         335279.91   \n",
      "3   77916.00     56120.71  198306.90       NaN  332343.61         332343.61   \n",
      "4  134401.60      9737.00  182234.59       NaN  326373.19         326373.19   \n",
      "\n",
      "   Year  Notes         Agency  Status  \n",
      "0  2011    NaN  San Francisco     NaN  \n",
      "1  2011    NaN  San Francisco     NaN  \n",
      "2  2011    NaN  San Francisco     NaN  \n",
      "3  2011    NaN  San Francisco     NaN  \n",
      "4  2011    NaN  San Francisco     NaN  \n"
     ]
    }
   ],
   "source": [
    "print(data.head())"
   ]
  },
  {
   "cell_type": "code",
   "execution_count": 129,
   "id": "98418193-d3ba-4c67-9ef8-59d920d80059",
   "metadata": {},
   "outputs": [
    {
     "name": "stdout",
     "output_type": "stream",
     "text": [
      "   Id        EmployeeName                                        JobTitle  \\\n",
      "0   1      NATHANIEL FORD  GENERAL MANAGER-METROPOLITAN TRANSIT AUTHORITY   \n",
      "1   2        GARY JIMENEZ                 CAPTAIN III (POLICE DEPARTMENT)   \n",
      "2   3      ALBERT PARDINI                 CAPTAIN III (POLICE DEPARTMENT)   \n",
      "3   4   CHRISTOPHER CHONG            WIRE ROPE CABLE MAINTENANCE MECHANIC   \n",
      "4   5     PATRICK GARDNER    DEPUTY CHIEF OF DEPARTMENT,(FIRE DEPARTMENT)   \n",
      "5   6      DAVID SULLIVAN                       ASSISTANT DEPUTY CHIEF II   \n",
      "6   7           ALSON LEE              BATTALION CHIEF, (FIRE DEPARTMENT)   \n",
      "7   8       DAVID KUSHNER                  DEPUTY DIRECTOR OF INVESTMENTS   \n",
      "8   9      MICHAEL MORRIS              BATTALION CHIEF, (FIRE DEPARTMENT)   \n",
      "9  10  JOANNE HAYES-WHITE          CHIEF OF DEPARTMENT, (FIRE DEPARTMENT)   \n",
      "\n",
      "     BasePay  OvertimePay   OtherPay  Benefits   TotalPay  TotalPayBenefits  \\\n",
      "0  167411.18         0.00  400184.25       NaN  567595.43         567595.43   \n",
      "1  155966.02    245131.88  137811.38       NaN  538909.28         538909.28   \n",
      "2  212739.13    106088.18   16452.60       NaN  335279.91         335279.91   \n",
      "3   77916.00     56120.71  198306.90       NaN  332343.61         332343.61   \n",
      "4  134401.60      9737.00  182234.59       NaN  326373.19         326373.19   \n",
      "5  118602.00      8601.00  189082.74       NaN  316285.74         316285.74   \n",
      "6   92492.01     89062.90  134426.14       NaN  315981.05         315981.05   \n",
      "7  256576.96         0.00   51322.50       NaN  307899.46         307899.46   \n",
      "8  176932.64     86362.68   40132.23       NaN  303427.55         303427.55   \n",
      "9  285262.00         0.00   17115.73       NaN  302377.73         302377.73   \n",
      "\n",
      "   Year  Notes         Agency  Status  \n",
      "0  2011    NaN  San Francisco     NaN  \n",
      "1  2011    NaN  San Francisco     NaN  \n",
      "2  2011    NaN  San Francisco     NaN  \n",
      "3  2011    NaN  San Francisco     NaN  \n",
      "4  2011    NaN  San Francisco     NaN  \n",
      "5  2011    NaN  San Francisco     NaN  \n",
      "6  2011    NaN  San Francisco     NaN  \n",
      "7  2011    NaN  San Francisco     NaN  \n",
      "8  2011    NaN  San Francisco     NaN  \n",
      "9  2011    NaN  San Francisco     NaN  \n"
     ]
    }
   ],
   "source": [
    "print(data.head(10))"
   ]
  },
  {
   "cell_type": "code",
   "execution_count": 131,
   "id": "ba9ab398-6b7c-4fbd-ad0c-47ae70cee95e",
   "metadata": {},
   "outputs": [
    {
     "name": "stdout",
     "output_type": "stream",
     "text": [
      "            Id      EmployeeName                      JobTitle  BasePay  \\\n",
      "148644  148645      Randy D Winn  Stationary Eng, Sewage Plant      0.0   \n",
      "148645  148646  Carolyn A Wilson     Human Services Technician      0.0   \n",
      "148646  148647      Not provided                  Not provided      NaN   \n",
      "148647  148648    Joann Anderson   Communications Dispatcher 2      0.0   \n",
      "148648  148649       Leon Walker                     Custodian      0.0   \n",
      "148649  148650     Roy I Tillery                     Custodian      0.0   \n",
      "148650  148651      Not provided                  Not provided      NaN   \n",
      "148651  148652      Not provided                  Not provided      NaN   \n",
      "148652  148653      Not provided                  Not provided      NaN   \n",
      "148653  148654         Joe Lopez    Counselor, Log Cabin Ranch      0.0   \n",
      "\n",
      "        OvertimePay  OtherPay  Benefits  TotalPay  TotalPayBenefits  Year  \\\n",
      "148644          0.0      0.00       0.0      0.00              0.00  2014   \n",
      "148645          0.0      0.00       0.0      0.00              0.00  2014   \n",
      "148646          NaN       NaN       NaN      0.00              0.00  2014   \n",
      "148647          0.0      0.00       0.0      0.00              0.00  2014   \n",
      "148648          0.0      0.00       0.0      0.00              0.00  2014   \n",
      "148649          0.0      0.00       0.0      0.00              0.00  2014   \n",
      "148650          NaN       NaN       NaN      0.00              0.00  2014   \n",
      "148651          NaN       NaN       NaN      0.00              0.00  2014   \n",
      "148652          NaN       NaN       NaN      0.00              0.00  2014   \n",
      "148653          0.0   -618.13       0.0   -618.13           -618.13  2014   \n",
      "\n",
      "        Notes         Agency  Status  \n",
      "148644    NaN  San Francisco     NaN  \n",
      "148645    NaN  San Francisco     NaN  \n",
      "148646    NaN  San Francisco     NaN  \n",
      "148647    NaN  San Francisco     NaN  \n",
      "148648    NaN  San Francisco     NaN  \n",
      "148649    NaN  San Francisco     NaN  \n",
      "148650    NaN  San Francisco     NaN  \n",
      "148651    NaN  San Francisco     NaN  \n",
      "148652    NaN  San Francisco     NaN  \n",
      "148653    NaN  San Francisco     NaN  \n"
     ]
    }
   ],
   "source": [
    "\n",
    "print(data.tail(10))"
   ]
  },
  {
   "cell_type": "code",
   "execution_count": 133,
   "id": "2ad09fb6-a976-47d2-bcb8-11505e6b0c2c",
   "metadata": {},
   "outputs": [
    {
     "data": {
      "text/plain": [
       "(148654, 13)"
      ]
     },
     "execution_count": 133,
     "metadata": {},
     "output_type": "execute_result"
    }
   ],
   "source": [
    "data.shape"
   ]
  },
  {
   "cell_type": "code",
   "execution_count": 135,
   "id": "ae873da3-4653-4449-bd29-f50efd118b82",
   "metadata": {},
   "outputs": [
    {
     "name": "stdout",
     "output_type": "stream",
     "text": [
      "<class 'pandas.core.frame.DataFrame'>\n",
      "RangeIndex: 148654 entries, 0 to 148653\n",
      "Data columns (total 13 columns):\n",
      " #   Column            Non-Null Count   Dtype  \n",
      "---  ------            --------------   -----  \n",
      " 0   Id                148654 non-null  int64  \n",
      " 1   EmployeeName      148654 non-null  object \n",
      " 2   JobTitle          148654 non-null  object \n",
      " 3   BasePay           148045 non-null  float64\n",
      " 4   OvertimePay       148650 non-null  float64\n",
      " 5   OtherPay          148650 non-null  float64\n",
      " 6   Benefits          112491 non-null  float64\n",
      " 7   TotalPay          148654 non-null  float64\n",
      " 8   TotalPayBenefits  148654 non-null  float64\n",
      " 9   Year              148654 non-null  int64  \n",
      " 10  Notes             0 non-null       float64\n",
      " 11  Agency            148654 non-null  object \n",
      " 12  Status            0 non-null       float64\n",
      "dtypes: float64(8), int64(2), object(3)\n",
      "memory usage: 14.7+ MB\n"
     ]
    }
   ],
   "source": [
    "data.info()"
   ]
  },
  {
   "cell_type": "code",
   "execution_count": 137,
   "id": "07c91a32-0972-426a-9c1f-8757fafba784",
   "metadata": {},
   "outputs": [
    {
     "data": {
      "text/html": [
       "<div>\n",
       "<style scoped>\n",
       "    .dataframe tbody tr th:only-of-type {\n",
       "        vertical-align: middle;\n",
       "    }\n",
       "\n",
       "    .dataframe tbody tr th {\n",
       "        vertical-align: top;\n",
       "    }\n",
       "\n",
       "    .dataframe thead th {\n",
       "        text-align: right;\n",
       "    }\n",
       "</style>\n",
       "<table border=\"1\" class=\"dataframe\">\n",
       "  <thead>\n",
       "    <tr style=\"text-align: right;\">\n",
       "      <th></th>\n",
       "      <th>Id</th>\n",
       "      <th>EmployeeName</th>\n",
       "      <th>JobTitle</th>\n",
       "      <th>BasePay</th>\n",
       "      <th>OvertimePay</th>\n",
       "      <th>OtherPay</th>\n",
       "      <th>Benefits</th>\n",
       "      <th>TotalPay</th>\n",
       "      <th>TotalPayBenefits</th>\n",
       "      <th>Year</th>\n",
       "      <th>Notes</th>\n",
       "      <th>Agency</th>\n",
       "      <th>Status</th>\n",
       "    </tr>\n",
       "  </thead>\n",
       "  <tbody>\n",
       "    <tr>\n",
       "      <th>0</th>\n",
       "      <td>False</td>\n",
       "      <td>False</td>\n",
       "      <td>False</td>\n",
       "      <td>False</td>\n",
       "      <td>False</td>\n",
       "      <td>False</td>\n",
       "      <td>True</td>\n",
       "      <td>False</td>\n",
       "      <td>False</td>\n",
       "      <td>False</td>\n",
       "      <td>True</td>\n",
       "      <td>False</td>\n",
       "      <td>True</td>\n",
       "    </tr>\n",
       "    <tr>\n",
       "      <th>1</th>\n",
       "      <td>False</td>\n",
       "      <td>False</td>\n",
       "      <td>False</td>\n",
       "      <td>False</td>\n",
       "      <td>False</td>\n",
       "      <td>False</td>\n",
       "      <td>True</td>\n",
       "      <td>False</td>\n",
       "      <td>False</td>\n",
       "      <td>False</td>\n",
       "      <td>True</td>\n",
       "      <td>False</td>\n",
       "      <td>True</td>\n",
       "    </tr>\n",
       "    <tr>\n",
       "      <th>2</th>\n",
       "      <td>False</td>\n",
       "      <td>False</td>\n",
       "      <td>False</td>\n",
       "      <td>False</td>\n",
       "      <td>False</td>\n",
       "      <td>False</td>\n",
       "      <td>True</td>\n",
       "      <td>False</td>\n",
       "      <td>False</td>\n",
       "      <td>False</td>\n",
       "      <td>True</td>\n",
       "      <td>False</td>\n",
       "      <td>True</td>\n",
       "    </tr>\n",
       "    <tr>\n",
       "      <th>3</th>\n",
       "      <td>False</td>\n",
       "      <td>False</td>\n",
       "      <td>False</td>\n",
       "      <td>False</td>\n",
       "      <td>False</td>\n",
       "      <td>False</td>\n",
       "      <td>True</td>\n",
       "      <td>False</td>\n",
       "      <td>False</td>\n",
       "      <td>False</td>\n",
       "      <td>True</td>\n",
       "      <td>False</td>\n",
       "      <td>True</td>\n",
       "    </tr>\n",
       "    <tr>\n",
       "      <th>4</th>\n",
       "      <td>False</td>\n",
       "      <td>False</td>\n",
       "      <td>False</td>\n",
       "      <td>False</td>\n",
       "      <td>False</td>\n",
       "      <td>False</td>\n",
       "      <td>True</td>\n",
       "      <td>False</td>\n",
       "      <td>False</td>\n",
       "      <td>False</td>\n",
       "      <td>True</td>\n",
       "      <td>False</td>\n",
       "      <td>True</td>\n",
       "    </tr>\n",
       "    <tr>\n",
       "      <th>...</th>\n",
       "      <td>...</td>\n",
       "      <td>...</td>\n",
       "      <td>...</td>\n",
       "      <td>...</td>\n",
       "      <td>...</td>\n",
       "      <td>...</td>\n",
       "      <td>...</td>\n",
       "      <td>...</td>\n",
       "      <td>...</td>\n",
       "      <td>...</td>\n",
       "      <td>...</td>\n",
       "      <td>...</td>\n",
       "      <td>...</td>\n",
       "    </tr>\n",
       "    <tr>\n",
       "      <th>148649</th>\n",
       "      <td>False</td>\n",
       "      <td>False</td>\n",
       "      <td>False</td>\n",
       "      <td>False</td>\n",
       "      <td>False</td>\n",
       "      <td>False</td>\n",
       "      <td>False</td>\n",
       "      <td>False</td>\n",
       "      <td>False</td>\n",
       "      <td>False</td>\n",
       "      <td>True</td>\n",
       "      <td>False</td>\n",
       "      <td>True</td>\n",
       "    </tr>\n",
       "    <tr>\n",
       "      <th>148650</th>\n",
       "      <td>False</td>\n",
       "      <td>False</td>\n",
       "      <td>False</td>\n",
       "      <td>True</td>\n",
       "      <td>True</td>\n",
       "      <td>True</td>\n",
       "      <td>True</td>\n",
       "      <td>False</td>\n",
       "      <td>False</td>\n",
       "      <td>False</td>\n",
       "      <td>True</td>\n",
       "      <td>False</td>\n",
       "      <td>True</td>\n",
       "    </tr>\n",
       "    <tr>\n",
       "      <th>148651</th>\n",
       "      <td>False</td>\n",
       "      <td>False</td>\n",
       "      <td>False</td>\n",
       "      <td>True</td>\n",
       "      <td>True</td>\n",
       "      <td>True</td>\n",
       "      <td>True</td>\n",
       "      <td>False</td>\n",
       "      <td>False</td>\n",
       "      <td>False</td>\n",
       "      <td>True</td>\n",
       "      <td>False</td>\n",
       "      <td>True</td>\n",
       "    </tr>\n",
       "    <tr>\n",
       "      <th>148652</th>\n",
       "      <td>False</td>\n",
       "      <td>False</td>\n",
       "      <td>False</td>\n",
       "      <td>True</td>\n",
       "      <td>True</td>\n",
       "      <td>True</td>\n",
       "      <td>True</td>\n",
       "      <td>False</td>\n",
       "      <td>False</td>\n",
       "      <td>False</td>\n",
       "      <td>True</td>\n",
       "      <td>False</td>\n",
       "      <td>True</td>\n",
       "    </tr>\n",
       "    <tr>\n",
       "      <th>148653</th>\n",
       "      <td>False</td>\n",
       "      <td>False</td>\n",
       "      <td>False</td>\n",
       "      <td>False</td>\n",
       "      <td>False</td>\n",
       "      <td>False</td>\n",
       "      <td>False</td>\n",
       "      <td>False</td>\n",
       "      <td>False</td>\n",
       "      <td>False</td>\n",
       "      <td>True</td>\n",
       "      <td>False</td>\n",
       "      <td>True</td>\n",
       "    </tr>\n",
       "  </tbody>\n",
       "</table>\n",
       "<p>148654 rows × 13 columns</p>\n",
       "</div>"
      ],
      "text/plain": [
       "           Id  EmployeeName  JobTitle  BasePay  OvertimePay  OtherPay  \\\n",
       "0       False         False     False    False        False     False   \n",
       "1       False         False     False    False        False     False   \n",
       "2       False         False     False    False        False     False   \n",
       "3       False         False     False    False        False     False   \n",
       "4       False         False     False    False        False     False   \n",
       "...       ...           ...       ...      ...          ...       ...   \n",
       "148649  False         False     False    False        False     False   \n",
       "148650  False         False     False     True         True      True   \n",
       "148651  False         False     False     True         True      True   \n",
       "148652  False         False     False     True         True      True   \n",
       "148653  False         False     False    False        False     False   \n",
       "\n",
       "        Benefits  TotalPay  TotalPayBenefits   Year  Notes  Agency  Status  \n",
       "0           True     False             False  False   True   False    True  \n",
       "1           True     False             False  False   True   False    True  \n",
       "2           True     False             False  False   True   False    True  \n",
       "3           True     False             False  False   True   False    True  \n",
       "4           True     False             False  False   True   False    True  \n",
       "...          ...       ...               ...    ...    ...     ...     ...  \n",
       "148649     False     False             False  False   True   False    True  \n",
       "148650      True     False             False  False   True   False    True  \n",
       "148651      True     False             False  False   True   False    True  \n",
       "148652      True     False             False  False   True   False    True  \n",
       "148653     False     False             False  False   True   False    True  \n",
       "\n",
       "[148654 rows x 13 columns]"
      ]
     },
     "execution_count": 137,
     "metadata": {},
     "output_type": "execute_result"
    }
   ],
   "source": [
    "data.isnull()"
   ]
  },
  {
   "cell_type": "code",
   "execution_count": 139,
   "id": "57f2a0f4-1681-4121-9a18-9b229d214cfa",
   "metadata": {},
   "outputs": [
    {
     "name": "stdout",
     "output_type": "stream",
     "text": [
      "DATA AFTER DROPPING SPECIFIED COLUMNS:\n",
      "\n",
      "        EmployeeName                                        JobTitle  \\\n",
      "0     NATHANIEL FORD  GENERAL MANAGER-METROPOLITAN TRANSIT AUTHORITY   \n",
      "1       GARY JIMENEZ                 CAPTAIN III (POLICE DEPARTMENT)   \n",
      "2     ALBERT PARDINI                 CAPTAIN III (POLICE DEPARTMENT)   \n",
      "3  CHRISTOPHER CHONG            WIRE ROPE CABLE MAINTENANCE MECHANIC   \n",
      "4    PATRICK GARDNER    DEPUTY CHIEF OF DEPARTMENT,(FIRE DEPARTMENT)   \n",
      "\n",
      "     BasePay  OvertimePay   OtherPay  Benefits   TotalPay  TotalPayBenefits  \\\n",
      "0  167411.18         0.00  400184.25       NaN  567595.43         567595.43   \n",
      "1  155966.02    245131.88  137811.38       NaN  538909.28         538909.28   \n",
      "2  212739.13    106088.18   16452.60       NaN  335279.91         335279.91   \n",
      "3   77916.00     56120.71  198306.90       NaN  332343.61         332343.61   \n",
      "4  134401.60      9737.00  182234.59       NaN  326373.19         326373.19   \n",
      "\n",
      "   Year  \n",
      "0  2011  \n",
      "1  2011  \n",
      "2  2011  \n",
      "3  2011  \n",
      "4  2011  \n"
     ]
    }
   ],
   "source": [
    "columns_to_drop=['Id','Notes','Agency','Status']\n",
    "data=data.drop(columns=columns_to_drop, errors='ignore')\n",
    "print(\"DATA AFTER DROPPING SPECIFIED COLUMNS:\\n\")\n",
    "print(data.head())"
   ]
  },
  {
   "cell_type": "code",
   "execution_count": 141,
   "id": "bc2b3d37-f827-42d0-bf97-8bc4599715c5",
   "metadata": {},
   "outputs": [
    {
     "name": "stdout",
     "output_type": "stream",
     "text": [
      "             BasePay    OvertimePay       OtherPay       Benefits  \\\n",
      "count  148045.000000  148650.000000  148650.000000  112491.000000   \n",
      "mean    66325.448840    5066.059886    3648.767297   25007.893151   \n",
      "std     42764.635495   11454.380559    8056.601866   15402.215858   \n",
      "min      -166.010000      -0.010000   -7058.590000     -33.890000   \n",
      "25%     33588.200000       0.000000       0.000000   11535.395000   \n",
      "50%     65007.450000       0.000000     811.270000   28628.620000   \n",
      "75%     94691.050000    4658.175000    4236.065000   35566.855000   \n",
      "max    319275.010000  245131.880000  400184.250000   96570.660000   \n",
      "\n",
      "            TotalPay  TotalPayBenefits           Year  \n",
      "count  148654.000000     148654.000000  148654.000000  \n",
      "mean    74768.321972      93692.554811    2012.522643  \n",
      "std     50517.005274      62793.533483       1.117538  \n",
      "min      -618.130000       -618.130000    2011.000000  \n",
      "25%     36168.995000      44065.650000    2012.000000  \n",
      "50%     71426.610000      92404.090000    2013.000000  \n",
      "75%    105839.135000     132876.450000    2014.000000  \n",
      "max    567595.430000     567595.430000    2014.000000  \n"
     ]
    }
   ],
   "source": [
    "print(data.describe())"
   ]
  },
  {
   "cell_type": "code",
   "execution_count": 143,
   "id": "e8bbbdeb-427d-40cf-b3fd-ea88e0498330",
   "metadata": {},
   "outputs": [
    {
     "name": "stdout",
     "output_type": "stream",
     "text": [
      "TOP 5 NAMES OF MOST COMMON EMPLOYEE NAME:\n",
      "\n",
      "EmployeeName\n",
      "Kevin Lee       13\n",
      "Richard Lee     11\n",
      "Steven Lee      11\n",
      "William Wong    11\n",
      "Stanley Lee      9\n",
      "KEVIN LEE        9\n",
      "Michael Wong     9\n",
      "John Chan        9\n",
      "Victor Lee       8\n",
      "DAVID WONG       8\n",
      "Name: count, dtype: int64\n"
     ]
    }
   ],
   "source": [
    "print(\"TOP 5 NAMES OF MOST COMMON EMPLOYEE NAME:\\n\")\n",
    "print(data['EmployeeName'].value_counts().head(10))"
   ]
  },
  {
   "cell_type": "code",
   "execution_count": 145,
   "id": "594c3b94-d122-4e4c-a949-487bb7d4ff8d",
   "metadata": {},
   "outputs": [
    {
     "name": "stdout",
     "output_type": "stream",
     "text": [
      "UNIQUE JOB TITLES:\n",
      "\n",
      "2159\n"
     ]
    }
   ],
   "source": [
    "print(\"UNIQUE JOB TITLES:\\n\")\n",
    "print(data['JobTitle'].nunique())"
   ]
  },
  {
   "cell_type": "code",
   "execution_count": 147,
   "id": "4c243c27-d166-47a6-a662-f6c0e5fe0f39",
   "metadata": {},
   "outputs": [
    {
     "name": "stdout",
     "output_type": "stream",
     "text": [
      "NUMBER OF JOB TITLES THAT CONTAIN 'CAPTAIN'\n",
      "\n",
      "552\n"
     ]
    }
   ],
   "source": [
    "print(\"NUMBER OF JOB TITLES THAT CONTAIN 'CAPTAIN'\\n\")\n",
    "print(data['JobTitle'].str.contains('captain',case=False,na=False).sum())"
   ]
  },
  {
   "cell_type": "code",
   "execution_count": 149,
   "id": "786c9b38-8021-478b-b0e7-ad1c4b56cb1a",
   "metadata": {},
   "outputs": [
    {
     "name": "stdout",
     "output_type": "stream",
     "text": [
      "EMPLOYEE NAMES FROM FIRE DEPARTMENT\n",
      "4            PATRICK GARDNER\n",
      "6                  ALSON LEE\n",
      "8             MICHAEL MORRIS\n",
      "9         JOANNE HAYES-WHITE\n",
      "10             ARTHUR KENNEY\n",
      "                 ...        \n",
      "145956      Kenneth C Farris\n",
      "147556         Edward A Dunn\n",
      "148021        Kari A Johnson\n",
      "148209          Sheryl K Lee\n",
      "148554       Lawrence F Gatt\n",
      "Name: EmployeeName, Length: 5879, dtype: object\n"
     ]
    }
   ],
   "source": [
    "print(\"EMPLOYEE NAMES FROM FIRE DEPARTMENT\")\n",
    "print(data[data['JobTitle'].str.contains('Fire',case=False,na=False)]['EmployeeName'])"
   ]
  },
  {
   "cell_type": "code",
   "execution_count": 151,
   "id": "efa36a70-b296-4e96-901d-cdf25e069018",
   "metadata": {},
   "outputs": [
    {
     "name": "stdout",
     "output_type": "stream",
     "text": [
      "MIN,MAX AND AVG OF BASE PAY:\n",
      "\n",
      "MINIMUM BASE PAY: -166.01\n",
      "\n",
      "MAXIMUM BASE PAY: 319275.01\n",
      "\n",
      "AVERAGE BASE PAY: 66325.4488404877\n"
     ]
    }
   ],
   "source": [
    "print(\"MIN,MAX AND AVG OF BASE PAY:\")\n",
    "print(\"\\nMINIMUM BASE PAY:\", data['BasePay'].min())\n",
    "print(\"\\nMAXIMUM BASE PAY:\", data['BasePay'].max())\n",
    "print(\"\\nAVERAGE BASE PAY:\", data['BasePay'].mean())"
   ]
  },
  {
   "cell_type": "code",
   "execution_count": 157,
   "id": "16e64720-4451-4981-a626-13c11cecf6cc",
   "metadata": {},
   "outputs": [
    {
     "name": "stdout",
     "output_type": "stream",
     "text": [
      "       EmployeeName                                        JobTitle  \\\n",
      "0              None  GENERAL MANAGER-METROPOLITAN TRANSIT AUTHORITY   \n",
      "1              None                 CAPTAIN III (POLICE DEPARTMENT)   \n",
      "2              None                 CAPTAIN III (POLICE DEPARTMENT)   \n",
      "3              None            WIRE ROPE CABLE MAINTENANCE MECHANIC   \n",
      "4              None    DEPUTY CHIEF OF DEPARTMENT,(FIRE DEPARTMENT)   \n",
      "...             ...                                             ...   \n",
      "148649         None                                       Custodian   \n",
      "148650         None                                    Not provided   \n",
      "148651         None                                    Not provided   \n",
      "148652         None                                    Not provided   \n",
      "148653         None                      Counselor, Log Cabin Ranch   \n",
      "\n",
      "          BasePay  OvertimePay   OtherPay  Benefits   TotalPay  \\\n",
      "0       167411.18         0.00  400184.25       NaN  567595.43   \n",
      "1       155966.02    245131.88  137811.38       NaN  538909.28   \n",
      "2       212739.13    106088.18   16452.60       NaN  335279.91   \n",
      "3        77916.00     56120.71  198306.90       NaN  332343.61   \n",
      "4       134401.60      9737.00  182234.59       NaN  326373.19   \n",
      "...           ...          ...        ...       ...        ...   \n",
      "148649       0.00         0.00       0.00       0.0       0.00   \n",
      "148650        NaN          NaN        NaN       NaN       0.00   \n",
      "148651        NaN          NaN        NaN       NaN       0.00   \n",
      "148652        NaN          NaN        NaN       NaN       0.00   \n",
      "148653       0.00         0.00    -618.13       0.0    -618.13   \n",
      "\n",
      "        TotalPayBenefits  Year  \n",
      "0              567595.43  2011  \n",
      "1              538909.28  2011  \n",
      "2              335279.91  2011  \n",
      "3              332343.61  2011  \n",
      "4              326373.19  2011  \n",
      "...                  ...   ...  \n",
      "148649              0.00  2014  \n",
      "148650              0.00  2014  \n",
      "148651              0.00  2014  \n",
      "148652              0.00  2014  \n",
      "148653           -618.13  2014  \n",
      "\n",
      "[148654 rows x 9 columns]\n"
     ]
    },
    {
     "name": "stderr",
     "output_type": "stream",
     "text": [
      "C:\\Users\\hp_la\\AppData\\Local\\Temp\\ipykernel_13172\\1722929910.py:1: FutureWarning: A value is trying to be set on a copy of a DataFrame or Series through chained assignment using an inplace method.\n",
      "The behavior will change in pandas 3.0. This inplace method will never work because the intermediate object on which we are setting values always behaves as a copy.\n",
      "\n",
      "For example, when doing 'df[col].method(value, inplace=True)', try using 'df.method({col: value}, inplace=True)' or df[col] = df[col].method(value) instead, to perform the operation inplace on the original object.\n",
      "\n",
      "\n",
      "  data['EmployeeName'] = data['EmployeeName'].replace('Not Provided', np.nan, inplace=True)\n"
     ]
    }
   ],
   "source": [
    "data['EmployeeName'] = data['EmployeeName'].replace('Not Provided', np.nan, inplace=True)\n",
    "print(data)"
   ]
  },
  {
   "cell_type": "code",
   "execution_count": 161,
   "id": "9b7e2ba3-e607-4777-81f2-673c4b2277d9",
   "metadata": {},
   "outputs": [
    {
     "name": "stdout",
     "output_type": "stream",
     "text": [
      "AFTER DROPPING MISSING VALUES\n",
      "\n"
     ]
    },
    {
     "data": {
      "text/html": [
       "<div>\n",
       "<style scoped>\n",
       "    .dataframe tbody tr th:only-of-type {\n",
       "        vertical-align: middle;\n",
       "    }\n",
       "\n",
       "    .dataframe tbody tr th {\n",
       "        vertical-align: top;\n",
       "    }\n",
       "\n",
       "    .dataframe thead th {\n",
       "        text-align: right;\n",
       "    }\n",
       "</style>\n",
       "<table border=\"1\" class=\"dataframe\">\n",
       "  <thead>\n",
       "    <tr style=\"text-align: right;\">\n",
       "      <th></th>\n",
       "      <th>EmployeeName</th>\n",
       "      <th>JobTitle</th>\n",
       "      <th>BasePay</th>\n",
       "      <th>OvertimePay</th>\n",
       "      <th>OtherPay</th>\n",
       "      <th>Benefits</th>\n",
       "      <th>TotalPay</th>\n",
       "      <th>TotalPayBenefits</th>\n",
       "      <th>Year</th>\n",
       "    </tr>\n",
       "  </thead>\n",
       "  <tbody>\n",
       "    <tr>\n",
       "      <th>0</th>\n",
       "      <td>None</td>\n",
       "      <td>GENERAL MANAGER-METROPOLITAN TRANSIT AUTHORITY</td>\n",
       "      <td>167411.18</td>\n",
       "      <td>0.00</td>\n",
       "      <td>400184.25</td>\n",
       "      <td>NaN</td>\n",
       "      <td>567595.43</td>\n",
       "      <td>567595.43</td>\n",
       "      <td>2011</td>\n",
       "    </tr>\n",
       "    <tr>\n",
       "      <th>1</th>\n",
       "      <td>None</td>\n",
       "      <td>CAPTAIN III (POLICE DEPARTMENT)</td>\n",
       "      <td>155966.02</td>\n",
       "      <td>245131.88</td>\n",
       "      <td>137811.38</td>\n",
       "      <td>NaN</td>\n",
       "      <td>538909.28</td>\n",
       "      <td>538909.28</td>\n",
       "      <td>2011</td>\n",
       "    </tr>\n",
       "    <tr>\n",
       "      <th>2</th>\n",
       "      <td>None</td>\n",
       "      <td>CAPTAIN III (POLICE DEPARTMENT)</td>\n",
       "      <td>212739.13</td>\n",
       "      <td>106088.18</td>\n",
       "      <td>16452.60</td>\n",
       "      <td>NaN</td>\n",
       "      <td>335279.91</td>\n",
       "      <td>335279.91</td>\n",
       "      <td>2011</td>\n",
       "    </tr>\n",
       "    <tr>\n",
       "      <th>3</th>\n",
       "      <td>None</td>\n",
       "      <td>WIRE ROPE CABLE MAINTENANCE MECHANIC</td>\n",
       "      <td>77916.00</td>\n",
       "      <td>56120.71</td>\n",
       "      <td>198306.90</td>\n",
       "      <td>NaN</td>\n",
       "      <td>332343.61</td>\n",
       "      <td>332343.61</td>\n",
       "      <td>2011</td>\n",
       "    </tr>\n",
       "    <tr>\n",
       "      <th>4</th>\n",
       "      <td>None</td>\n",
       "      <td>DEPUTY CHIEF OF DEPARTMENT,(FIRE DEPARTMENT)</td>\n",
       "      <td>134401.60</td>\n",
       "      <td>9737.00</td>\n",
       "      <td>182234.59</td>\n",
       "      <td>NaN</td>\n",
       "      <td>326373.19</td>\n",
       "      <td>326373.19</td>\n",
       "      <td>2011</td>\n",
       "    </tr>\n",
       "    <tr>\n",
       "      <th>...</th>\n",
       "      <td>...</td>\n",
       "      <td>...</td>\n",
       "      <td>...</td>\n",
       "      <td>...</td>\n",
       "      <td>...</td>\n",
       "      <td>...</td>\n",
       "      <td>...</td>\n",
       "      <td>...</td>\n",
       "      <td>...</td>\n",
       "    </tr>\n",
       "    <tr>\n",
       "      <th>148645</th>\n",
       "      <td>None</td>\n",
       "      <td>Human Services Technician</td>\n",
       "      <td>0.00</td>\n",
       "      <td>0.00</td>\n",
       "      <td>0.00</td>\n",
       "      <td>0.0</td>\n",
       "      <td>0.00</td>\n",
       "      <td>0.00</td>\n",
       "      <td>2014</td>\n",
       "    </tr>\n",
       "    <tr>\n",
       "      <th>148647</th>\n",
       "      <td>None</td>\n",
       "      <td>Communications Dispatcher 2</td>\n",
       "      <td>0.00</td>\n",
       "      <td>0.00</td>\n",
       "      <td>0.00</td>\n",
       "      <td>0.0</td>\n",
       "      <td>0.00</td>\n",
       "      <td>0.00</td>\n",
       "      <td>2014</td>\n",
       "    </tr>\n",
       "    <tr>\n",
       "      <th>148648</th>\n",
       "      <td>None</td>\n",
       "      <td>Custodian</td>\n",
       "      <td>0.00</td>\n",
       "      <td>0.00</td>\n",
       "      <td>0.00</td>\n",
       "      <td>0.0</td>\n",
       "      <td>0.00</td>\n",
       "      <td>0.00</td>\n",
       "      <td>2014</td>\n",
       "    </tr>\n",
       "    <tr>\n",
       "      <th>148649</th>\n",
       "      <td>None</td>\n",
       "      <td>Custodian</td>\n",
       "      <td>0.00</td>\n",
       "      <td>0.00</td>\n",
       "      <td>0.00</td>\n",
       "      <td>0.0</td>\n",
       "      <td>0.00</td>\n",
       "      <td>0.00</td>\n",
       "      <td>2014</td>\n",
       "    </tr>\n",
       "    <tr>\n",
       "      <th>148653</th>\n",
       "      <td>None</td>\n",
       "      <td>Counselor, Log Cabin Ranch</td>\n",
       "      <td>0.00</td>\n",
       "      <td>0.00</td>\n",
       "      <td>-618.13</td>\n",
       "      <td>0.0</td>\n",
       "      <td>-618.13</td>\n",
       "      <td>-618.13</td>\n",
       "      <td>2014</td>\n",
       "    </tr>\n",
       "  </tbody>\n",
       "</table>\n",
       "<p>148650 rows × 9 columns</p>\n",
       "</div>"
      ],
      "text/plain": [
       "       EmployeeName                                        JobTitle  \\\n",
       "0              None  GENERAL MANAGER-METROPOLITAN TRANSIT AUTHORITY   \n",
       "1              None                 CAPTAIN III (POLICE DEPARTMENT)   \n",
       "2              None                 CAPTAIN III (POLICE DEPARTMENT)   \n",
       "3              None            WIRE ROPE CABLE MAINTENANCE MECHANIC   \n",
       "4              None    DEPUTY CHIEF OF DEPARTMENT,(FIRE DEPARTMENT)   \n",
       "...             ...                                             ...   \n",
       "148645         None                       Human Services Technician   \n",
       "148647         None                     Communications Dispatcher 2   \n",
       "148648         None                                       Custodian   \n",
       "148649         None                                       Custodian   \n",
       "148653         None                      Counselor, Log Cabin Ranch   \n",
       "\n",
       "          BasePay  OvertimePay   OtherPay  Benefits   TotalPay  \\\n",
       "0       167411.18         0.00  400184.25       NaN  567595.43   \n",
       "1       155966.02    245131.88  137811.38       NaN  538909.28   \n",
       "2       212739.13    106088.18   16452.60       NaN  335279.91   \n",
       "3        77916.00     56120.71  198306.90       NaN  332343.61   \n",
       "4       134401.60      9737.00  182234.59       NaN  326373.19   \n",
       "...           ...          ...        ...       ...        ...   \n",
       "148645       0.00         0.00       0.00       0.0       0.00   \n",
       "148647       0.00         0.00       0.00       0.0       0.00   \n",
       "148648       0.00         0.00       0.00       0.0       0.00   \n",
       "148649       0.00         0.00       0.00       0.0       0.00   \n",
       "148653       0.00         0.00    -618.13       0.0    -618.13   \n",
       "\n",
       "        TotalPayBenefits  Year  \n",
       "0              567595.43  2011  \n",
       "1              538909.28  2011  \n",
       "2              335279.91  2011  \n",
       "3              332343.61  2011  \n",
       "4              326373.19  2011  \n",
       "...                  ...   ...  \n",
       "148645              0.00  2014  \n",
       "148647              0.00  2014  \n",
       "148648              0.00  2014  \n",
       "148649              0.00  2014  \n",
       "148653           -618.13  2014  \n",
       "\n",
       "[148650 rows x 9 columns]"
      ]
     },
     "execution_count": 161,
     "metadata": {},
     "output_type": "execute_result"
    }
   ],
   "source": [
    "print(\"AFTER DROPPING MISSING VALUES\\n\") \n",
    "data.dropna(thresh=len(data.columns)-4)"
   ]
  },
  {
   "cell_type": "code",
   "execution_count": 163,
   "id": "dd54c8bc-ca71-465d-8587-66bfa970487b",
   "metadata": {},
   "outputs": [
    {
     "name": "stdout",
     "output_type": "stream",
     "text": [
      "JOB TITLE OF ALBERT PARDINI:\n",
      "Series([], Name: JobTitle, dtype: object)\n"
     ]
    }
   ],
   "source": [
    "print(\"JOB TITLE OF ALBERT PARDINI:\")\n",
    "print(data[data['EmployeeName'] == 'ALBERT PALDINI']['JobTitle'])"
   ]
  },
  {
   "cell_type": "code",
   "execution_count": 167,
   "id": "ed6be0f1-44ef-49bf-814d-75784db62e71",
   "metadata": {},
   "outputs": [
    {
     "name": "stdout",
     "output_type": "stream",
     "text": [
      "TOTAL PAY BENEFIT OF ALBERT PALDINI:\n",
      "Series([], Name: TotalPayBenefits, dtype: float64)\n"
     ]
    }
   ],
   "source": [
    "print(\"TOTAL PAY BENEFIT OF ALBERT PALDINI:\")\n",
    "print(data[data['EmployeeName']=='ALBERT PALDINI']['TotalPayBenefits'])"
   ]
  },
  {
   "cell_type": "code",
   "execution_count": 175,
   "id": "31149c4f-699d-4996-9a15-a2806b60ee34",
   "metadata": {},
   "outputs": [
    {
     "name": "stdout",
     "output_type": "stream",
     "text": [
      "NAME OF PERSON WITH HIGHEST BASEPAY:\n",
      "72925    None\n",
      "Name: EmployeeName, dtype: object\n"
     ]
    }
   ],
   "source": [
    "highest_basepay=data[data['BasePay']==data['BasePay'].max()]\n",
    "print(\"NAME OF PERSON WITH HIGHEST BASEPAY:\")\n",
    "print(highest_basepay['EmployeeName'])"
   ]
  },
  {
   "cell_type": "code",
   "execution_count": 179,
   "id": "c0b11979-8357-4a60-8d7a-5940c02b0a00",
   "metadata": {},
   "outputs": [
    {
     "name": "stdout",
     "output_type": "stream",
     "text": [
      "AVG PAY PER YEAR:\n",
      "Year\n",
      "2011    63595.956517\n",
      "2012    65436.406857\n",
      "2013    69630.030216\n",
      "2014    66564.421924\n",
      "Name: BasePay, dtype: float64\n"
     ]
    }
   ],
   "source": [
    "print(\"AVG PAY PER YEAR:\")\n",
    "print(data.groupby('Year')['BasePay'].mean())"
   ]
  },
  {
   "cell_type": "code",
   "execution_count": 183,
   "id": "5b021dba-d58f-484d-a2d1-bbf88703a721",
   "metadata": {},
   "outputs": [
    {
     "name": "stdout",
     "output_type": "stream",
     "text": [
      "AVG BASE PAY PER JOB TITLE\n",
      "\n",
      "JobTitle\n",
      "ACCOUNT CLERK                                     43300.806506\n",
      "ACCOUNTANT                                        46643.172000\n",
      "ACCOUNTANT INTERN                                 28732.663958\n",
      "ACPO,JuvP, Juv Prob (SFERS)                       62290.780000\n",
      "ACUPUNCTURIST                                     66374.400000\n",
      "                                                      ...     \n",
      "X-RAY LABORATORY AIDE                             47664.773077\n",
      "X-Ray Laboratory Aide                             46086.387100\n",
      "YOUTH COMMISSION ADVISOR, BOARD OF SUPERVISORS    52609.910000\n",
      "Youth Comm Advisor                                39077.957500\n",
      "ZOO CURATOR                                       43148.000000\n",
      "Name: BasePay, Length: 2159, dtype: float64\n"
     ]
    }
   ],
   "source": [
    "print(\"AVG BASE PAY PER JOB TITLE\\n\")\n",
    "print(data.groupby('JobTitle')['BasePay'].mean())"
   ]
  },
  {
   "cell_type": "code",
   "execution_count": 191,
   "id": "febcf463-1e5d-4b15-8328-d454fdf35c45",
   "metadata": {},
   "outputs": [
    {
     "name": "stdout",
     "output_type": "stream",
     "text": [
      "AVG BASE PAY EMPLOYEE HAVING JOB TITLE ACCOUNTANT\n",
      "\n",
      "46643.172\n"
     ]
    }
   ],
   "source": [
    "print(\"AVG BASE PAY EMPLOYEE HAVING JOB TITLE ACCOUNTANT\\n\")\n",
    "print(data[data['JobTitle']=='ACCOUNTANT']['BasePay'].mean())"
   ]
  },
  {
   "cell_type": "code",
   "execution_count": 199,
   "id": "5e055358-0891-40b3-a4cd-a7e3110cd59d",
   "metadata": {
    "scrolled": true
   },
   "outputs": [
    {
     "name": "stdout",
     "output_type": "stream",
     "text": [
      "TOP 5 MOST COMMON JOBS\n",
      "\n"
     ]
    },
    {
     "ename": "KeyError",
     "evalue": "'JobTitles'",
     "output_type": "error",
     "traceback": [
      "\u001b[1;31m---------------------------------------------------------------------------\u001b[0m",
      "\u001b[1;31mKeyError\u001b[0m                                  Traceback (most recent call last)",
      "File \u001b[1;32mC:\\ProgramData\\anaconda3\\Lib\\site-packages\\pandas\\core\\indexes\\base.py:3805\u001b[0m, in \u001b[0;36mIndex.get_loc\u001b[1;34m(self, key)\u001b[0m\n\u001b[0;32m   3804\u001b[0m \u001b[38;5;28;01mtry\u001b[39;00m:\n\u001b[1;32m-> 3805\u001b[0m     \u001b[38;5;28;01mreturn\u001b[39;00m \u001b[38;5;28;43mself\u001b[39;49m\u001b[38;5;241;43m.\u001b[39;49m\u001b[43m_engine\u001b[49m\u001b[38;5;241;43m.\u001b[39;49m\u001b[43mget_loc\u001b[49m\u001b[43m(\u001b[49m\u001b[43mcasted_key\u001b[49m\u001b[43m)\u001b[49m\n\u001b[0;32m   3806\u001b[0m \u001b[38;5;28;01mexcept\u001b[39;00m \u001b[38;5;167;01mKeyError\u001b[39;00m \u001b[38;5;28;01mas\u001b[39;00m err:\n",
      "File \u001b[1;32mindex.pyx:167\u001b[0m, in \u001b[0;36mpandas._libs.index.IndexEngine.get_loc\u001b[1;34m()\u001b[0m\n",
      "File \u001b[1;32mindex.pyx:196\u001b[0m, in \u001b[0;36mpandas._libs.index.IndexEngine.get_loc\u001b[1;34m()\u001b[0m\n",
      "File \u001b[1;32mpandas\\\\_libs\\\\hashtable_class_helper.pxi:7081\u001b[0m, in \u001b[0;36mpandas._libs.hashtable.PyObjectHashTable.get_item\u001b[1;34m()\u001b[0m\n",
      "File \u001b[1;32mpandas\\\\_libs\\\\hashtable_class_helper.pxi:7089\u001b[0m, in \u001b[0;36mpandas._libs.hashtable.PyObjectHashTable.get_item\u001b[1;34m()\u001b[0m\n",
      "\u001b[1;31mKeyError\u001b[0m: 'JobTitles'",
      "\nThe above exception was the direct cause of the following exception:\n",
      "\u001b[1;31mKeyError\u001b[0m                                  Traceback (most recent call last)",
      "Cell \u001b[1;32mIn[199], line 2\u001b[0m\n\u001b[0;32m      1\u001b[0m \u001b[38;5;28mprint\u001b[39m(\u001b[38;5;124m\"\u001b[39m\u001b[38;5;124mTOP 5 MOST COMMON JOBS\u001b[39m\u001b[38;5;130;01m\\n\u001b[39;00m\u001b[38;5;124m\"\u001b[39m)\n\u001b[1;32m----> 2\u001b[0m \u001b[38;5;28mprint\u001b[39m(\u001b[43mdata\u001b[49m\u001b[43m[\u001b[49m\u001b[38;5;124;43m'\u001b[39;49m\u001b[38;5;124;43mJobTitles\u001b[39;49m\u001b[38;5;124;43m'\u001b[39;49m\u001b[43m]\u001b[49m\u001b[38;5;241m.\u001b[39mvalue_counts()\u001b[38;5;241m.\u001b[39mhead(\u001b[38;5;241m5\u001b[39m))\n",
      "File \u001b[1;32mC:\\ProgramData\\anaconda3\\Lib\\site-packages\\pandas\\core\\frame.py:4102\u001b[0m, in \u001b[0;36mDataFrame.__getitem__\u001b[1;34m(self, key)\u001b[0m\n\u001b[0;32m   4100\u001b[0m \u001b[38;5;28;01mif\u001b[39;00m \u001b[38;5;28mself\u001b[39m\u001b[38;5;241m.\u001b[39mcolumns\u001b[38;5;241m.\u001b[39mnlevels \u001b[38;5;241m>\u001b[39m \u001b[38;5;241m1\u001b[39m:\n\u001b[0;32m   4101\u001b[0m     \u001b[38;5;28;01mreturn\u001b[39;00m \u001b[38;5;28mself\u001b[39m\u001b[38;5;241m.\u001b[39m_getitem_multilevel(key)\n\u001b[1;32m-> 4102\u001b[0m indexer \u001b[38;5;241m=\u001b[39m \u001b[38;5;28;43mself\u001b[39;49m\u001b[38;5;241;43m.\u001b[39;49m\u001b[43mcolumns\u001b[49m\u001b[38;5;241;43m.\u001b[39;49m\u001b[43mget_loc\u001b[49m\u001b[43m(\u001b[49m\u001b[43mkey\u001b[49m\u001b[43m)\u001b[49m\n\u001b[0;32m   4103\u001b[0m \u001b[38;5;28;01mif\u001b[39;00m is_integer(indexer):\n\u001b[0;32m   4104\u001b[0m     indexer \u001b[38;5;241m=\u001b[39m [indexer]\n",
      "File \u001b[1;32mC:\\ProgramData\\anaconda3\\Lib\\site-packages\\pandas\\core\\indexes\\base.py:3812\u001b[0m, in \u001b[0;36mIndex.get_loc\u001b[1;34m(self, key)\u001b[0m\n\u001b[0;32m   3807\u001b[0m     \u001b[38;5;28;01mif\u001b[39;00m \u001b[38;5;28misinstance\u001b[39m(casted_key, \u001b[38;5;28mslice\u001b[39m) \u001b[38;5;129;01mor\u001b[39;00m (\n\u001b[0;32m   3808\u001b[0m         \u001b[38;5;28misinstance\u001b[39m(casted_key, abc\u001b[38;5;241m.\u001b[39mIterable)\n\u001b[0;32m   3809\u001b[0m         \u001b[38;5;129;01mand\u001b[39;00m \u001b[38;5;28many\u001b[39m(\u001b[38;5;28misinstance\u001b[39m(x, \u001b[38;5;28mslice\u001b[39m) \u001b[38;5;28;01mfor\u001b[39;00m x \u001b[38;5;129;01min\u001b[39;00m casted_key)\n\u001b[0;32m   3810\u001b[0m     ):\n\u001b[0;32m   3811\u001b[0m         \u001b[38;5;28;01mraise\u001b[39;00m InvalidIndexError(key)\n\u001b[1;32m-> 3812\u001b[0m     \u001b[38;5;28;01mraise\u001b[39;00m \u001b[38;5;167;01mKeyError\u001b[39;00m(key) \u001b[38;5;28;01mfrom\u001b[39;00m \u001b[38;5;21;01merr\u001b[39;00m\n\u001b[0;32m   3813\u001b[0m \u001b[38;5;28;01mexcept\u001b[39;00m \u001b[38;5;167;01mTypeError\u001b[39;00m:\n\u001b[0;32m   3814\u001b[0m     \u001b[38;5;66;03m# If we have a listlike key, _check_indexing_error will raise\u001b[39;00m\n\u001b[0;32m   3815\u001b[0m     \u001b[38;5;66;03m#  InvalidIndexError. Otherwise we fall through and re-raise\u001b[39;00m\n\u001b[0;32m   3816\u001b[0m     \u001b[38;5;66;03m#  the TypeError.\u001b[39;00m\n\u001b[0;32m   3817\u001b[0m     \u001b[38;5;28mself\u001b[39m\u001b[38;5;241m.\u001b[39m_check_indexing_error(key)\n",
      "\u001b[1;31mKeyError\u001b[0m: 'JobTitles'"
     ]
    }
   ],
   "source": [
    "print(\"TOP 5 MOST COMMON JOBS\\n\")\n",
    "print(data['JobTitles'].value_counts().head(5))"
   ]
  },
  {
   "cell_type": "code",
   "execution_count": null,
   "id": "4a2ef7c5-729b-48d2-b6a9-4566e3f99e48",
   "metadata": {},
   "outputs": [],
   "source": []
  }
 ],
 "metadata": {
  "kernelspec": {
   "display_name": "Python 3 (ipykernel)",
   "language": "python",
   "name": "python3"
  },
  "language_info": {
   "codemirror_mode": {
    "name": "ipython",
    "version": 3
   },
   "file_extension": ".py",
   "mimetype": "text/x-python",
   "name": "python",
   "nbconvert_exporter": "python",
   "pygments_lexer": "ipython3",
   "version": "3.12.4"
  }
 },
 "nbformat": 4,
 "nbformat_minor": 5
}
