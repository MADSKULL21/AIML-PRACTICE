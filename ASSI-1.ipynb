{
 "cells": [
  {
   "cell_type": "code",
   "execution_count": 3,
   "id": "60895f1e-b166-4c10-af5d-29a9c6c06a60",
   "metadata": {},
   "outputs": [],
   "source": [
    "import pandas as pd\n",
    "import matplotlib.pyplot as plt\n",
    "import seaborn as sns"
   ]
  },
  {
   "cell_type": "code",
   "execution_count": 4,
   "id": "0fb1ecdf-5d7a-40d6-a756-7eea16b945c9",
   "metadata": {},
   "outputs": [],
   "source": [
    "data=pd.read_csv(\"amazon.csv\")"
   ]
  },
  {
   "cell_type": "code",
   "execution_count": 5,
   "id": "78497130-4780-4d55-a8b1-088feec01015",
   "metadata": {},
   "outputs": [
    {
     "name": "stdout",
     "output_type": "stream",
     "text": [
      "Top 5 rows of the dataset:\n",
      "   year state    month  number        date\n",
      "0  1998  Acre  Janeiro     0.0  01-01-1998\n",
      "1  1999  Acre  Janeiro     0.0  01-01-1999\n",
      "2  2000  Acre  Janeiro     0.0  01-01-2000\n",
      "3  2001  Acre  Janeiro     0.0  01-01-2001\n",
      "4  2002  Acre  Janeiro     0.0  01-01-2002\n"
     ]
    }
   ],
   "source": [
    "print(\"Top 5 rows of the dataset:\")\n",
    "print(data.head())"
   ]
  },
  {
   "cell_type": "code",
   "execution_count": 6,
   "id": "afc30711-c3b7-4fdd-bceb-5fbfbb8d819e",
   "metadata": {},
   "outputs": [
    {
     "name": "stdout",
     "output_type": "stream",
     "text": [
      "\n",
      "Last 5 rows of the dataset:\n",
      "      year      state     month  number        date\n",
      "6449  2012  Tocantins  Dezembro   128.0  01-01-2012\n",
      "6450  2013  Tocantins  Dezembro    85.0  01-01-2013\n",
      "6451  2014  Tocantins  Dezembro   223.0  01-01-2014\n",
      "6452  2015  Tocantins  Dezembro   373.0  01-01-2015\n",
      "6453  2016  Tocantins  Dezembro   119.0  01-01-2016\n"
     ]
    }
   ],
   "source": [
    "print(\"\\nLast 5 rows of the dataset:\")\n",
    "print(data.tail())\n"
   ]
  },
  {
   "cell_type": "code",
   "execution_count": 7,
   "id": "7bd4a07b-9988-4755-88bf-c5134c8f8286",
   "metadata": {},
   "outputs": [
    {
     "name": "stdout",
     "output_type": "stream",
     "text": [
      "\n",
      "Shape of the dataset:\n",
      "Rows: 6454, Columns: 5\n"
     ]
    }
   ],
   "source": [
    "print(\"\\nShape of the dataset:\")\n",
    "print(f\"Rows: {data.shape[0]}, Columns: {data.shape[1]}\")"
   ]
  },
  {
   "cell_type": "code",
   "execution_count": 8,
   "id": "d2c7e3be-156e-49e5-b092-2661c411e5cb",
   "metadata": {},
   "outputs": [
    {
     "name": "stdout",
     "output_type": "stream",
     "text": [
      "\n",
      "Dataset information:\n",
      "<class 'pandas.core.frame.DataFrame'>\n",
      "RangeIndex: 6454 entries, 0 to 6453\n",
      "Data columns (total 5 columns):\n",
      " #   Column  Non-Null Count  Dtype  \n",
      "---  ------  --------------  -----  \n",
      " 0   year    6454 non-null   int64  \n",
      " 1   state   6454 non-null   object \n",
      " 2   month   6454 non-null   object \n",
      " 3   number  6454 non-null   float64\n",
      " 4   date    6454 non-null   object \n",
      "dtypes: float64(1), int64(1), object(3)\n",
      "memory usage: 252.2+ KB\n",
      "None\n"
     ]
    }
   ],
   "source": [
    "print(\"\\nDataset information:\")\n",
    "print(data.info())"
   ]
  },
  {
   "cell_type": "code",
   "execution_count": 9,
   "id": "babd6cd0-9331-4497-9d3d-410bd5b5268f",
   "metadata": {},
   "outputs": [
    {
     "name": "stdout",
     "output_type": "stream",
     "text": [
      "\n",
      "Number of duplicate rows: 32\n",
      "Duplicate rows dropped.\n"
     ]
    }
   ],
   "source": [
    "duplicates = data.duplicated().sum()\n",
    "print(f\"\\nNumber of duplicate rows: {duplicates}\")\n",
    "if duplicates > 0:\n",
    "    data = data.drop_duplicates()\n",
    "    print(\"Duplicate rows dropped.\")"
   ]
  },
  {
   "cell_type": "code",
   "execution_count": 10,
   "id": "d361ce44-c884-4693-8a34-b923c5bd2a6d",
   "metadata": {},
   "outputs": [
    {
     "name": "stdout",
     "output_type": "stream",
     "text": [
      "\n",
      "Null values in the dataset:\n",
      "year      0\n",
      "state     0\n",
      "month     0\n",
      "number    0\n",
      "date      0\n",
      "dtype: int64\n"
     ]
    }
   ],
   "source": [
    "print(\"\\nNull values in the dataset:\")\n",
    "print(data.isnull().sum())"
   ]
  },
  {
   "cell_type": "code",
   "execution_count": 11,
   "id": "0ea7a2c4-77d8-459a-8b88-996c2e6e4cb8",
   "metadata": {},
   "outputs": [
    {
     "name": "stdout",
     "output_type": "stream",
     "text": [
      "\n",
      "Overall statistics of the dataframe:\n",
      "              year       number\n",
      "count  6422.000000  6422.000000\n",
      "mean   2007.490969   108.815178\n",
      "std       5.731806   191.142482\n",
      "min    1998.000000     0.000000\n",
      "25%    2003.000000     3.000000\n",
      "50%    2007.000000    24.497000\n",
      "75%    2012.000000   114.000000\n",
      "max    2017.000000   998.000000\n"
     ]
    }
   ],
   "source": [
    "print(\"\\nOverall statistics of the dataframe:\")\n",
    "print(data.describe())"
   ]
  },
  {
   "cell_type": "code",
   "execution_count": 10,
   "id": "f6270a3c-93e2-4275-ba8c-225b32b8c2af",
   "metadata": {},
   "outputs": [
    {
     "name": "stdout",
     "output_type": "stream",
     "text": [
      "\n",
      "Updated month names:\n",
      "[nan]\n"
     ]
    }
   ],
   "source": [
    "month_mapping = {\n",
    "    'jan': 'January', 'fev': 'February', 'mar': 'March', 'abr': 'April',\n",
    "    'mai': 'May', 'jun': 'June', 'jul': 'July', 'ago': 'August',\n",
    "    'set': 'September', 'out': 'October', 'nov': 'November', 'dec': 'December'\n",
    "}\n",
    "data['month'] = data['month'].map(month_mapping)\n",
    "print(\"\\nUpdated month names:\")\n",
    "print(data['month'].unique())"
   ]
  },
  {
   "cell_type": "code",
   "execution_count": 11,
   "id": "40315a03-5fbe-4b36-b053-4c535a3a809c",
   "metadata": {},
   "outputs": [
    {
     "name": "stdout",
     "output_type": "stream",
     "text": [
      "\n",
      "Total number of fires registered: 698811.073\n"
     ]
    }
   ],
   "source": [
    "total_fires = data['number'].sum()\n",
    "print(f\"\\nTotal number of fires registered: {total_fires}\")"
   ]
  },
  {
   "cell_type": "code",
   "execution_count": 13,
   "id": "ed85b586-682e-4028-9fa3-887d3185f914",
   "metadata": {},
   "outputs": [
    {
     "data": {
      "text/plain": [
       "month\n",
       "Abril        28184.770\n",
       "Agosto       88050.435\n",
       "Dezembro     57535.480\n",
       "Fevereiro    30839.050\n",
       "Janeiro      47681.844\n",
       "Julho        92319.113\n",
       "Junho        55997.675\n",
       "Maio         34725.363\n",
       "Mar‡o        30709.405\n",
       "Novembro     85508.054\n",
       "Outubro      88681.579\n",
       "Setembro     58578.305\n",
       "Name: number, dtype: float64"
      ]
     },
     "execution_count": 13,
     "metadata": {},
     "output_type": "execute_result"
    }
   ],
   "source": [
    "max_fires = data.groupby('month')['number'].sum()\n",
    "max_fires"
   ]
  },
  {
   "cell_type": "code",
   "execution_count": 14,
   "id": "2c3a0c2d-15fe-4126-95cf-bc1c66b36be3",
   "metadata": {},
   "outputs": [
    {
     "name": "stdout",
     "output_type": "stream",
     "text": [
      "The month with maximum fire is: Julho\n",
      "The total number of fire in that month is: 92319.113\n"
     ]
    }
   ],
   "source": [
    "max_fire_month = max_fires.idxmax()\n",
    "max_fire = max_fires.max()\n",
    "print(\"The month with maximum fire is:\",max_fire_month)\n",
    "print(\"The total number of fire in that month is:\",max_fire)"
   ]
  },
  {
   "cell_type": "code",
   "execution_count": 16,
   "id": "1046035c-8690-43fd-a34d-26da01bcc097",
   "metadata": {},
   "outputs": [
    {
     "data": {
      "text/plain": [
       "year\n",
       "1998    20013.971\n",
       "1999    26882.821\n",
       "2000    27351.251\n",
       "2001    29054.612\n",
       "2002    37390.600\n",
       "2003    42760.674\n",
       "2004    38450.163\n",
       "2005    35004.965\n",
       "2006    33824.161\n",
       "2007    33028.413\n",
       "2008    29378.964\n",
       "2009    39116.178\n",
       "2010    37037.449\n",
       "2011    34633.545\n",
       "2012    40084.860\n",
       "2013    35137.118\n",
       "2014    39621.183\n",
       "2015    41208.292\n",
       "2016    42212.229\n",
       "2017    36619.624\n",
       "Name: number, dtype: float64"
      ]
     },
     "execution_count": 16,
     "metadata": {},
     "output_type": "execute_result"
    }
   ],
   "source": [
    "max_fire_year = data.groupby('year')['number'].sum()\n",
    "max_fire_year"
   ]
  },
  {
   "cell_type": "code",
   "execution_count": 17,
   "id": "0dc81add-5120-42d5-aa41-219e42d949d3",
   "metadata": {},
   "outputs": [
    {
     "name": "stdout",
     "output_type": "stream",
     "text": [
      "The year with the maximum number of fire is: 2003\n",
      "The maximum number of fire in that year is: 42760.674\n"
     ]
    }
   ],
   "source": [
    "max_fire_year_name = max_fire_year.idxmax()\n",
    "max_fires = max_fire_year.max()\n",
    "print(\"The year with the maximum number of fire is:\",max_fire_year_name)\n",
    "print(\"The maximum number of fire in that year is:\",max_fires)"
   ]
  },
  {
   "cell_type": "code",
   "execution_count": 19,
   "id": "19f9db70-80c6-45d5-9c94-f8b96bff25fb",
   "metadata": {},
   "outputs": [
    {
     "data": {
      "text/plain": [
       "state\n",
       "Acre                960.0\n",
       "Alagoas             162.0\n",
       "Amapa               969.0\n",
       "Amazonas            998.0\n",
       "Bahia               995.0\n",
       "Ceara               995.0\n",
       "Distrito Federal    196.0\n",
       "Espirito Santo      307.0\n",
       "Goias               943.0\n",
       "Maranhao            972.0\n",
       "Mato Grosso         979.0\n",
       "Minas Gerais        959.0\n",
       "Paraiba             987.0\n",
       "Par                 982.0\n",
       "Pernambuco          859.0\n",
       "Piau                943.0\n",
       "Rio                 885.0\n",
       "Rondonia            969.0\n",
       "Roraima             820.0\n",
       "Santa Catarina      765.0\n",
       "Sao Paulo           981.0\n",
       "Sergipe             198.0\n",
       "Tocantins           989.0\n",
       "Name: number, dtype: float64"
      ]
     },
     "execution_count": 19,
     "metadata": {},
     "output_type": "execute_result"
    }
   ],
   "source": [
    "max_fire_state = data.groupby('state')['number'].max()\n",
    "max_fire_state"
   ]
  },
  {
   "cell_type": "code",
   "execution_count": 20,
   "id": "db0b2a9d-3001-4a40-8a8d-d7bfb1837116",
   "metadata": {},
   "outputs": [
    {
     "name": "stdout",
     "output_type": "stream",
     "text": [
      "The state with the maximum number of fire is: Amazonas\n",
      "The maximum number of fire in that state is: 998.0\n"
     ]
    }
   ],
   "source": [
    "max_fire_state_name = max_fire_state.idxmax()\n",
    "max_fire = max_fire_state.max()\n",
    "print(\"The state with the maximum number of fire is:\",max_fire_state_name)\n",
    "print(\"The maximum number of fire in that state is:\",max_fire)"
   ]
  },
  {
   "cell_type": "code",
   "execution_count": 22,
   "id": "6d8387fa-22c3-4fa4-a70a-ec9b197c6a03",
   "metadata": {},
   "outputs": [
    {
     "data": {
      "text/plain": [
       "30650.129"
      ]
     },
     "execution_count": 22,
     "metadata": {},
     "output_type": "execute_result"
    }
   ],
   "source": [
    "fire_amazonas = data[data['state']=='Amazonas']\n",
    "total=fire_amazonas['number'].sum()\n",
    "total"
   ]
  },
  {
   "cell_type": "code",
   "execution_count": 24,
   "id": "4dc2deb9-52f4-49c9-a141-57606b31b78d",
   "metadata": {},
   "outputs": [
    {
     "name": "stdout",
     "output_type": "stream",
     "text": [
      "The number of fire in Amazons year-wise is:\n",
      " year\n",
      "1998    20013.971\n",
      "1999    26882.821\n",
      "2000    27351.251\n",
      "2001    29054.612\n",
      "2002    37390.600\n",
      "2003    42760.674\n",
      "2004    38450.163\n",
      "2005    35004.965\n",
      "2006    33824.161\n",
      "2007    33028.413\n",
      "2008    29378.964\n",
      "2009    39116.178\n",
      "2010    37037.449\n",
      "2011    34633.545\n",
      "2012    40084.860\n",
      "2013    35137.118\n",
      "2014    39621.183\n",
      "2015    41208.292\n",
      "2016    42212.229\n",
      "2017    36619.624\n",
      "Name: number, dtype: float64\n"
     ]
    }
   ],
   "source": [
    "amazons_fire_year = data.groupby('year')['number'].sum()\n",
    "print(\"The number of fire in Amazons year-wise is:\\n\",amazons_fire_year)"
   ]
  },
  {
   "cell_type": "code",
   "execution_count": 25,
   "id": "956714cf-47ad-4d30-8c98-06d1c1ef85fe",
   "metadata": {},
   "outputs": [
    {
     "data": {
      "text/plain": [
       "date\n",
       "01-01-1998    20013.971\n",
       "01-01-1999    26882.821\n",
       "01-01-2000    27351.251\n",
       "01-01-2001    29054.612\n",
       "01-01-2002    37390.600\n",
       "01-01-2003    42760.674\n",
       "01-01-2004    38450.163\n",
       "01-01-2005    35004.965\n",
       "01-01-2006    33824.161\n",
       "01-01-2007    33028.413\n",
       "01-01-2008    29378.964\n",
       "01-01-2009    39116.178\n",
       "01-01-2010    37037.449\n",
       "01-01-2011    34633.545\n",
       "01-01-2012    40084.860\n",
       "01-01-2013    35137.118\n",
       "01-01-2014    39621.183\n",
       "01-01-2015    41208.292\n",
       "01-01-2016    42212.229\n",
       "01-01-2017    36619.624\n",
       "Name: number, dtype: float64"
      ]
     },
     "execution_count": 25,
     "metadata": {},
     "output_type": "execute_result"
    }
   ],
   "source": [
    "amazonas_fire_date = data.groupby('date')['number'].sum()\n",
    "amazonas_fire_date"
   ]
  },
  {
   "cell_type": "code",
   "execution_count": 26,
   "id": "5cee93a9-6156-4713-b7d9-4ea5a859a155",
   "metadata": {},
   "outputs": [
    {
     "data": {
      "text/html": [
       "<div>\n",
       "<style scoped>\n",
       "    .dataframe tbody tr th:only-of-type {\n",
       "        vertical-align: middle;\n",
       "    }\n",
       "\n",
       "    .dataframe tbody tr th {\n",
       "        vertical-align: top;\n",
       "    }\n",
       "\n",
       "    .dataframe thead th {\n",
       "        text-align: right;\n",
       "    }\n",
       "</style>\n",
       "<table border=\"1\" class=\"dataframe\">\n",
       "  <thead>\n",
       "    <tr style=\"text-align: right;\">\n",
       "      <th></th>\n",
       "      <th>year</th>\n",
       "      <th>state</th>\n",
       "      <th>month</th>\n",
       "      <th>number</th>\n",
       "      <th>date</th>\n",
       "    </tr>\n",
       "  </thead>\n",
       "  <tbody>\n",
       "    <tr>\n",
       "      <th>17</th>\n",
       "      <td>2015</td>\n",
       "      <td>Acre</td>\n",
       "      <td>Janeiro</td>\n",
       "      <td>1.000</td>\n",
       "      <td>01-01-2015</td>\n",
       "    </tr>\n",
       "    <tr>\n",
       "      <th>37</th>\n",
       "      <td>2015</td>\n",
       "      <td>Acre</td>\n",
       "      <td>Fevereiro</td>\n",
       "      <td>2.000</td>\n",
       "      <td>01-01-2015</td>\n",
       "    </tr>\n",
       "    <tr>\n",
       "      <th>57</th>\n",
       "      <td>2015</td>\n",
       "      <td>Acre</td>\n",
       "      <td>Mar‡o</td>\n",
       "      <td>2.000</td>\n",
       "      <td>01-01-2015</td>\n",
       "    </tr>\n",
       "    <tr>\n",
       "      <th>77</th>\n",
       "      <td>2015</td>\n",
       "      <td>Acre</td>\n",
       "      <td>Abril</td>\n",
       "      <td>3.000</td>\n",
       "      <td>01-01-2015</td>\n",
       "    </tr>\n",
       "    <tr>\n",
       "      <th>97</th>\n",
       "      <td>2015</td>\n",
       "      <td>Acre</td>\n",
       "      <td>Maio</td>\n",
       "      <td>2.000</td>\n",
       "      <td>01-01-2015</td>\n",
       "    </tr>\n",
       "    <tr>\n",
       "      <th>...</th>\n",
       "      <td>...</td>\n",
       "      <td>...</td>\n",
       "      <td>...</td>\n",
       "      <td>...</td>\n",
       "      <td>...</td>\n",
       "    </tr>\n",
       "    <tr>\n",
       "      <th>6372</th>\n",
       "      <td>2015</td>\n",
       "      <td>Tocantins</td>\n",
       "      <td>Agosto</td>\n",
       "      <td>2.540</td>\n",
       "      <td>01-01-2015</td>\n",
       "    </tr>\n",
       "    <tr>\n",
       "      <th>6392</th>\n",
       "      <td>2015</td>\n",
       "      <td>Tocantins</td>\n",
       "      <td>Setembro</td>\n",
       "      <td>5.510</td>\n",
       "      <td>01-01-2015</td>\n",
       "    </tr>\n",
       "    <tr>\n",
       "      <th>6412</th>\n",
       "      <td>2015</td>\n",
       "      <td>Tocantins</td>\n",
       "      <td>Outubro</td>\n",
       "      <td>4.844</td>\n",
       "      <td>01-01-2015</td>\n",
       "    </tr>\n",
       "    <tr>\n",
       "      <th>6432</th>\n",
       "      <td>2015</td>\n",
       "      <td>Tocantins</td>\n",
       "      <td>Novembro</td>\n",
       "      <td>833.000</td>\n",
       "      <td>01-01-2015</td>\n",
       "    </tr>\n",
       "    <tr>\n",
       "      <th>6452</th>\n",
       "      <td>2015</td>\n",
       "      <td>Tocantins</td>\n",
       "      <td>Dezembro</td>\n",
       "      <td>373.000</td>\n",
       "      <td>01-01-2015</td>\n",
       "    </tr>\n",
       "  </tbody>\n",
       "</table>\n",
       "<p>324 rows × 5 columns</p>\n",
       "</div>"
      ],
      "text/plain": [
       "      year      state      month   number        date\n",
       "17    2015       Acre    Janeiro    1.000  01-01-2015\n",
       "37    2015       Acre  Fevereiro    2.000  01-01-2015\n",
       "57    2015       Acre      Mar‡o    2.000  01-01-2015\n",
       "77    2015       Acre      Abril    3.000  01-01-2015\n",
       "97    2015       Acre       Maio    2.000  01-01-2015\n",
       "...    ...        ...        ...      ...         ...\n",
       "6372  2015  Tocantins     Agosto    2.540  01-01-2015\n",
       "6392  2015  Tocantins   Setembro    5.510  01-01-2015\n",
       "6412  2015  Tocantins    Outubro    4.844  01-01-2015\n",
       "6432  2015  Tocantins   Novembro  833.000  01-01-2015\n",
       "6452  2015  Tocantins   Dezembro  373.000  01-01-2015\n",
       "\n",
       "[324 rows x 5 columns]"
      ]
     },
     "execution_count": 26,
     "metadata": {},
     "output_type": "execute_result"
    }
   ],
   "source": [
    "fire_report = data[data['year']==2015]\n",
    "fire_report"
   ]
  },
  {
   "cell_type": "code",
   "execution_count": 27,
   "id": "782cc0cc-b33a-4577-aa50-a4ac83886182",
   "metadata": {},
   "outputs": [
    {
     "data": {
      "text/plain": [
       "month\n",
       "Abril        2573.000\n",
       "Agosto       4363.125\n",
       "Dezembro     4088.522\n",
       "Fevereiro    2309.000\n",
       "Janeiro      4635.000\n",
       "Julho        4364.392\n",
       "Junho        3260.552\n",
       "Maio         2384.000\n",
       "Mar‡o        2202.000\n",
       "Novembro     4034.518\n",
       "Outubro      4499.525\n",
       "Setembro     2494.658\n",
       "Name: number, dtype: float64"
      ]
     },
     "execution_count": 27,
     "metadata": {},
     "output_type": "execute_result"
    }
   ],
   "source": [
    "fire_report.groupby('month')['number'].sum()"
   ]
  },
  {
   "cell_type": "code",
   "execution_count": 29,
   "id": "54d317dd-0bd5-4e11-ac0e-820a2a9eeef4",
   "metadata": {},
   "outputs": [
    {
     "data": {
      "image/png": "[encoded data removed]",
      "text/plain": [
       "<Figure size 1000x500 with 1 Axes>"
      ]
     },
     "metadata": {},
     "output_type": "display_data"
    }
   ],
   "source": [
    "plt.figure(figsize=(10,5))\n",
    "plt.bar(data['month'],data['number'])\n",
    "plt.show()"
   ]
  },
  {
   "cell_type": "code",
   "execution_count": 30,
   "id": "ff00a44f-5e09-4061-b56a-8d85f9a16530",
   "metadata": {},
   "outputs": [
    {
     "data": {
      "text/plain": [
       "state\n",
       "Sao Paulo           213.896226\n",
       "Mato Grosso         203.479975\n",
       "Bahia               187.222703\n",
       "Piau                158.174674\n",
       "Goias               157.721841\n",
       "Minas Gerais        156.800243\n",
       "Tocantins           141.037176\n",
       "Amazonas            128.243218\n",
       "Ceara               127.314071\n",
       "Paraiba             111.073979\n",
       "Maranhao            105.142808\n",
       "Par                 102.561272\n",
       "Pernambuco          102.502092\n",
       "Roraima             102.029598\n",
       "Santa Catarina      101.924067\n",
       "Amapa                91.345506\n",
       "Rondonia             84.876272\n",
       "Acre                 77.255356\n",
       "Rio                  64.698515\n",
       "Espirito Santo       27.389121\n",
       "Alagoas              19.271967\n",
       "Distrito Federal     14.899582\n",
       "Sergipe              13.543933\n",
       "Name: number, dtype: float64"
      ]
     },
     "execution_count": 30,
     "metadata": {},
     "output_type": "execute_result"
    }
   ],
   "source": [
    "avg_fire = data.groupby('state')['number'].mean().sort_values(ascending=False)\n",
    "avg_fire"
   ]
  },
  {
   "cell_type": "code",
   "execution_count": 34,
   "id": "6f86edaf-f7a4-44e9-bbac-ef544c4f053b",
   "metadata": {},
   "outputs": [
    {
     "data": {
      "text/plain": [
       "array([], dtype=object)"
      ]
     },
     "execution_count": 34,
     "metadata": {},
     "output_type": "execute_result"
    }
   ],
   "source": [
    "fire_reported = data[data['month']=='December']['state'].unique()\n",
    "fire_reported"
   ]
  },
  {
   "cell_type": "code",
   "execution_count": null,
   "id": "4c268ad6-330e-4645-b54f-ef0975bbb05b",
   "metadata": {},
   "outputs": [],
   "source": []
  }
 ],
 "metadata": {
  "kernelspec": {
   "display_name": "Python 3 (ipykernel)",
   "language": "python",
   "name": "python3"
  },
  "language_info": {
   "codemirror_mode": {
    "name": "ipython",
    "version": 3
   },
   "file_extension": ".py",
   "mimetype": "text/x-python",
   "name": "python",
   "nbconvert_exporter": "python",
   "pygments_lexer": "ipython3",
   "version": "3.12.4"
  }
 },
 "nbformat": 4,
 "nbformat_minor": 5
}
